{
 "cells": [
  {
   "cell_type": "markdown",
   "metadata": {},
   "source": [
    "# Emojify!  \n",
    "\n",
    "Have you ever wanted to make your text messages more expressive? Emojifier app will help you do that. \n",
    "So rather than writing:\n",
    ">\"Congratulations on the promotion! Let's get coffee and talk. Love you!\"   \n",
    "\n",
    "The emojifier can automatically turn this into:\n",
    ">\"Congratulations on the promotion! 👍 Let's get coffee and talk. ☕️ Love you! ❤️\""
   ]
  },
  {
   "cell_type": "code",
   "execution_count": 1,
   "metadata": {},
   "outputs": [],
   "source": [
    "import numpy as np\n",
    "import tensorflow as tf\n",
    "from tensorflow.keras.models import Model\n",
    "from tensorflow.keras.layers import Dense, Input, Dropout, LSTM, Activation\n",
    "from tensorflow.keras.layers import Embedding\n",
    "from tensorflow.keras.preprocessing import sequence\n",
    "from tensorflow.keras.initializers import glorot_uniform\n",
    "from emo_utils import *\n",
    "import emoji\n",
    "import matplotlib.pyplot as plt\n"
   ]
  },
  {
   "cell_type": "markdown",
   "metadata": {},
   "source": [
    "### Overview of the model\n",
    "\n",
    "<img src=\"images/emojifier-v2.png\" style=\"width:700px;height:400px;\"> <br>\n",
    "<caption><center> Emojifier: A 2-layer LSTM sequence classifier. </center></caption>"
   ]
  },
  {
   "cell_type": "markdown",
   "metadata": {},
   "source": [
    "#### Embedding Layer in Keras\n",
    "The embedding dimension is 50.\n",
    "<img src=\"images/embedding1.png\" style=\"width:700px;height:250px;\">\n",
    "<caption><center> Embedding layer</center></caption>"
   ]
  },
  {
   "cell_type": "markdown",
   "metadata": {},
   "source": [
    "#### Dataset EMOJISET\n",
    "\n",
    "\n",
    "- X contains sentences (strings).\n",
    "- Y contains an integer label between 0 and 4 corresponding to an emoji for each sentence.\n",
    "\n",
    "<img src=\"images/data_set.png\" style=\"width:700px;height:300px;\">\n",
    "<caption><center> EMOJISET - a classification problem with 5 classes. A few examples of sentences are given here. </center></caption>\n"
   ]
  },
  {
   "cell_type": "code",
   "execution_count": 11,
   "metadata": {},
   "outputs": [],
   "source": [
    "X_train, Y_train = read_csv('data/train_emoji.csv')\n",
    "X_test, Y_test = read_csv('data/tesss.csv')"
   ]
  },
  {
   "cell_type": "code",
   "execution_count": 12,
   "metadata": {},
   "outputs": [],
   "source": [
    "maxLen = len(max(X_train, key=len).split())"
   ]
  },
  {
   "cell_type": "markdown",
   "metadata": {},
   "source": [
    "#### Use pre-trained 50-dimensional GloVe embeddings."
   ]
  },
  {
   "cell_type": "code",
   "execution_count": 13,
   "metadata": {},
   "outputs": [],
   "source": [
    "word_to_index, index_to_word, word_to_vec_map = read_glove_vecs('data/glove.6B.50d.txt')"
   ]
  },
  {
   "cell_type": "code",
   "execution_count": 14,
   "metadata": {},
   "outputs": [
    {
     "name": "stdout",
     "output_type": "stream",
     "text": [
      "the index of cucumber in the vocabulary is 113317\n",
      "the 289846th word in the vocabulary is potatos\n"
     ]
    }
   ],
   "source": [
    "word = \"cucumber\"\n",
    "idx = 289846\n",
    "print(\"the index of\", word, \"in the vocabulary is\", word_to_index[word])\n",
    "print(\"the\", str(idx) + \"th word in the vocabulary is\", index_to_word[idx])"
   ]
  },
  {
   "cell_type": "code",
   "execution_count": 15,
   "metadata": {},
   "outputs": [],
   "source": [
    "def sentences_to_indices(X, word_to_index, max_len):\n",
    "    \"\"\"\n",
    "    Converts an array of sentences (strings) into an array of indices corresponding to words in the sentences.\n",
    "    The output shape should be such that it can be given to `Embedding()`. \n",
    "    \n",
    "    Arguments:\n",
    "    X -- array of sentences (strings), of shape (m, 1)\n",
    "    word_to_index -- a dictionary containing the each word mapped to its index\n",
    "    max_len -- maximum number of words in a sentence. You can assume every sentence in X is no longer than this. \n",
    "    \n",
    "    Returns:\n",
    "    X_indices -- array of indices corresponding to words in the sentences from X, of shape (m, max_len)\n",
    "    \"\"\"\n",
    "    \n",
    "    m = X.shape[0]                                   # number of training examples\n",
    "    X_indices = np.zeros((m,max_len))\n",
    "    \n",
    "    for i in range(m):                               \n",
    "        sentence_words = X[i].lower().split()\n",
    "        j = 0\n",
    "        for w in sentence_words:\n",
    "            X_indices[i, j] = word_to_index[w]\n",
    "            j = j + 1\n",
    "        \n",
    "    \n",
    "    return X_indices"
   ]
  },
  {
   "cell_type": "code",
   "execution_count": 16,
   "metadata": {},
   "outputs": [],
   "source": [
    "def pretrained_embedding_layer(word_to_vec_map, word_to_index):\n",
    "    \"\"\"\n",
    "    Creates a Keras Embedding() layer and loads in pre-trained GloVe 50-dimensional vectors.\n",
    "    \n",
    "    Arguments:\n",
    "    word_to_vec_map -- dictionary mapping words to their GloVe vector representation.\n",
    "    word_to_index -- dictionary mapping from words to their indices in the vocabulary \n",
    "\n",
    "    Returns:\n",
    "    embedding_layer -- pretrained layer Keras instance\n",
    "    \"\"\"\n",
    "    \n",
    "    vocab_len = len(word_to_index) + 1                  # adding 1 to fit Keras embedding (requirement)\n",
    "    emb_dim = word_to_vec_map[\"cucumber\"].shape[0]      # define dimensionality of your GloVe word vectors (= 50)\n",
    "    \n",
    "    \n",
    "    # Initialize the embedding matrix as a numpy array of zeros.\n",
    "    emb_matrix = np.zeros((vocab_len,emb_dim))\n",
    "    \n",
    "    \n",
    "    for word, idx in word_to_index.items():\n",
    "        emb_matrix[idx, :] = word_to_vec_map[word]\n",
    "\n",
    "    \n",
    "    # Define Keras embedding layer with the correct input and output sizes\n",
    "    embedding_layer = Embedding(vocab_len,emb_dim,trainable = False)\n",
    "    \n",
    "\n",
    "   \n",
    "    # Build the embedding layer, it is required before setting the weights of the embedding layer. \n",
    "    embedding_layer.build((None,))\n",
    "    \n",
    "    # Set the weights of the embedding layer to the embedding matrix. Layer is now pretrained.\n",
    "    embedding_layer.set_weights([emb_matrix])\n",
    "    \n",
    "    return embedding_layer"
   ]
  },
  {
   "cell_type": "code",
   "execution_count": 17,
   "metadata": {},
   "outputs": [],
   "source": [
    "def Emojify_V2(input_shape, word_to_vec_map, word_to_index):\n",
    "    \"\"\"\n",
    "    Function creating the Emojify-v2 model's graph.\n",
    "    \n",
    "    Arguments:\n",
    "    input_shape -- shape of the input, usually (max_len,)\n",
    "    word_to_vec_map -- dictionary mapping every word in a vocabulary into its 50-dimensional vector representation\n",
    "    word_to_index -- dictionary mapping from words to their indices in the vocabulary (400,001 words)\n",
    "\n",
    "    Returns:\n",
    "    model -- a model instance in Keras\n",
    "    \"\"\"\n",
    "    \n",
    "    \n",
    "    # Define sentence_indices as the input of the graph.\n",
    "    sentence_indices = Input(shape = input_shape,dtype = 'int32')\n",
    "    \n",
    "    # Create the embedding layer pretrained with GloVe Vectors\n",
    "    embedding_layer = pretrained_embedding_layer(word_to_vec_map, word_to_index)\n",
    "    \n",
    "    # Propagate sentence_indices through your embedding layer\n",
    "    embeddings = embedding_layer(sentence_indices)   \n",
    "    \n",
    "    # Propagate the embeddings through an LSTM layer with 128-dimensional hidden state\n",
    "    X = LSTM(units = 128,return_sequences = True)(embeddings)\n",
    "    # Add dropout with a probability of 0.5\n",
    "    X = Dropout(0.5)(X)\n",
    "    # Propagate X trough another LSTM layer with 128-dimensional hidden state\n",
    "    X = LSTM(units = 128,return_sequences = False)(X)\n",
    "    # Add dropout with a probability of 0.5\n",
    "    X = Dropout(0.5)(X)\n",
    "    # Propagate X through a Dense layer with 5 units\n",
    "    X = Dense(5)(X)\n",
    "    # Add a softmax activation\n",
    "    X = Activation('softmax')(X)\n",
    "    model = Model(inputs = sentence_indices,outputs = X)\n",
    "    \n",
    "    return model"
   ]
  },
  {
   "cell_type": "code",
   "execution_count": 29,
   "metadata": {},
   "outputs": [
    {
     "name": "stdout",
     "output_type": "stream",
     "text": [
      "Model: \"model_1\"\n",
      "_________________________________________________________________\n",
      "Layer (type)                 Output Shape              Param #   \n",
      "=================================================================\n",
      "input_2 (InputLayer)         [(None, 10)]              0         \n",
      "_________________________________________________________________\n",
      "embedding_2 (Embedding)      (None, 10, 50)            20000050  \n",
      "_________________________________________________________________\n",
      "lstm_2 (LSTM)                (None, 10, 128)           91648     \n",
      "_________________________________________________________________\n",
      "dropout_2 (Dropout)          (None, 10, 128)           0         \n",
      "_________________________________________________________________\n",
      "lstm_3 (LSTM)                (None, 128)               131584    \n",
      "_________________________________________________________________\n",
      "dropout_3 (Dropout)          (None, 128)               0         \n",
      "_________________________________________________________________\n",
      "dense_1 (Dense)              (None, 5)                 645       \n",
      "_________________________________________________________________\n",
      "activation_1 (Activation)    (None, 5)                 0         \n",
      "=================================================================\n",
      "Total params: 20,223,927\n",
      "Trainable params: 223,877\n",
      "Non-trainable params: 20,000,050\n",
      "_________________________________________________________________\n"
     ]
    }
   ],
   "source": [
    "model = Emojify_V2((maxLen,), word_to_vec_map, word_to_index)\n",
    "model.summary()"
   ]
  },
  {
   "cell_type": "code",
   "execution_count": 30,
   "metadata": {},
   "outputs": [],
   "source": [
    "model.compile(loss='categorical_crossentropy', optimizer='adam', metrics=['accuracy'])"
   ]
  },
  {
   "cell_type": "code",
   "execution_count": 31,
   "metadata": {},
   "outputs": [],
   "source": [
    "X_train_indices = sentences_to_indices(X_train, word_to_index, maxLen)\n",
    "Y_train_oh = convert_to_one_hot(Y_train, C = 5)"
   ]
  },
  {
   "cell_type": "code",
   "execution_count": 32,
   "metadata": {},
   "outputs": [
    {
     "name": "stdout",
     "output_type": "stream",
     "text": [
      "Epoch 1/50\n",
      "5/5 [==============================] - 0s 21ms/step - loss: 1.5892 - accuracy: 0.2500\n",
      "Epoch 2/50\n",
      "5/5 [==============================] - 0s 17ms/step - loss: 1.5029 - accuracy: 0.3182\n",
      "Epoch 3/50\n",
      "5/5 [==============================] - 0s 18ms/step - loss: 1.4654 - accuracy: 0.3333\n",
      "Epoch 4/50\n",
      "5/5 [==============================] - 0s 19ms/step - loss: 1.3517 - accuracy: 0.4394\n",
      "Epoch 5/50\n",
      "5/5 [==============================] - 0s 19ms/step - loss: 1.2445 - accuracy: 0.5303\n",
      "Epoch 6/50\n",
      "5/5 [==============================] - 0s 18ms/step - loss: 1.1741 - accuracy: 0.5303\n",
      "Epoch 7/50\n",
      "5/5 [==============================] - 0s 20ms/step - loss: 1.0287 - accuracy: 0.5985\n",
      "Epoch 8/50\n",
      "5/5 [==============================] - 0s 19ms/step - loss: 0.9210 - accuracy: 0.6591\n",
      "Epoch 9/50\n",
      "5/5 [==============================] - 0s 19ms/step - loss: 0.7759 - accuracy: 0.7273\n",
      "Epoch 10/50\n",
      "5/5 [==============================] - 0s 18ms/step - loss: 0.6760 - accuracy: 0.7652\n",
      "Epoch 11/50\n",
      "5/5 [==============================] - 0s 20ms/step - loss: 0.5867 - accuracy: 0.7879\n",
      "Epoch 12/50\n",
      "5/5 [==============================] - 0s 17ms/step - loss: 0.5083 - accuracy: 0.8409\n",
      "Epoch 13/50\n",
      "5/5 [==============================] - 0s 19ms/step - loss: 0.4562 - accuracy: 0.8182\n",
      "Epoch 14/50\n",
      "5/5 [==============================] - 0s 19ms/step - loss: 0.4384 - accuracy: 0.8333\n",
      "Epoch 15/50\n",
      "5/5 [==============================] - 0s 20ms/step - loss: 0.4268 - accuracy: 0.8409\n",
      "Epoch 16/50\n",
      "5/5 [==============================] - 0s 18ms/step - loss: 0.5234 - accuracy: 0.8182\n",
      "Epoch 17/50\n",
      "5/5 [==============================] - 0s 20ms/step - loss: 0.5280 - accuracy: 0.8409\n",
      "Epoch 18/50\n",
      "5/5 [==============================] - 0s 20ms/step - loss: 0.4846 - accuracy: 0.8333\n",
      "Epoch 19/50\n",
      "5/5 [==============================] - 0s 17ms/step - loss: 0.3644 - accuracy: 0.8788\n",
      "Epoch 20/50\n",
      "5/5 [==============================] - 0s 18ms/step - loss: 0.3418 - accuracy: 0.8864\n",
      "Epoch 21/50\n",
      "5/5 [==============================] - 0s 18ms/step - loss: 0.2477 - accuracy: 0.9318\n",
      "Epoch 22/50\n",
      "5/5 [==============================] - 0s 18ms/step - loss: 0.2568 - accuracy: 0.9318\n",
      "Epoch 23/50\n",
      "5/5 [==============================] - 0s 20ms/step - loss: 0.2195 - accuracy: 0.9242\n",
      "Epoch 24/50\n",
      "5/5 [==============================] - 0s 19ms/step - loss: 0.1777 - accuracy: 0.9545\n",
      "Epoch 25/50\n",
      "5/5 [==============================] - 0s 17ms/step - loss: 0.2816 - accuracy: 0.9167\n",
      "Epoch 26/50\n",
      "5/5 [==============================] - 0s 18ms/step - loss: 0.2919 - accuracy: 0.9091\n",
      "Epoch 27/50\n",
      "5/5 [==============================] - 0s 19ms/step - loss: 0.2228 - accuracy: 0.9318\n",
      "Epoch 28/50\n",
      "5/5 [==============================] - 0s 19ms/step - loss: 0.2080 - accuracy: 0.9318\n",
      "Epoch 29/50\n",
      "5/5 [==============================] - 0s 19ms/step - loss: 0.1670 - accuracy: 0.9545\n",
      "Epoch 30/50\n",
      "5/5 [==============================] - 0s 20ms/step - loss: 0.1448 - accuracy: 0.9394\n",
      "Epoch 31/50\n",
      "5/5 [==============================] - 0s 20ms/step - loss: 0.1148 - accuracy: 0.9545\n",
      "Epoch 32/50\n",
      "5/5 [==============================] - 0s 21ms/step - loss: 0.0886 - accuracy: 0.9545\n",
      "Epoch 33/50\n",
      "5/5 [==============================] - 0s 21ms/step - loss: 0.0833 - accuracy: 0.9697\n",
      "Epoch 34/50\n",
      "5/5 [==============================] - 0s 21ms/step - loss: 0.0813 - accuracy: 0.9848\n",
      "Epoch 35/50\n",
      "5/5 [==============================] - 0s 22ms/step - loss: 0.0891 - accuracy: 0.9621\n",
      "Epoch 36/50\n",
      "5/5 [==============================] - 0s 20ms/step - loss: 0.1613 - accuracy: 0.9545\n",
      "Epoch 37/50\n",
      "5/5 [==============================] - 0s 26ms/step - loss: 0.2380 - accuracy: 0.9167\n",
      "Epoch 38/50\n",
      "5/5 [==============================] - 0s 19ms/step - loss: 0.1332 - accuracy: 0.9621\n",
      "Epoch 39/50\n",
      "5/5 [==============================] - 0s 20ms/step - loss: 0.0943 - accuracy: 0.9545\n",
      "Epoch 40/50\n",
      "5/5 [==============================] - 0s 23ms/step - loss: 0.0664 - accuracy: 0.9773\n",
      "Epoch 41/50\n",
      "5/5 [==============================] - 0s 37ms/step - loss: 0.1976 - accuracy: 0.9318\n",
      "Epoch 42/50\n",
      "5/5 [==============================] - 0s 38ms/step - loss: 0.1978 - accuracy: 0.9470\n",
      "Epoch 43/50\n",
      "5/5 [==============================] - 0s 37ms/step - loss: 0.2135 - accuracy: 0.9394\n",
      "Epoch 44/50\n",
      "5/5 [==============================] - 0s 71ms/step - loss: 0.2332 - accuracy: 0.9091\n",
      "Epoch 45/50\n",
      "5/5 [==============================] - 0s 44ms/step - loss: 0.3371 - accuracy: 0.9091\n",
      "Epoch 46/50\n",
      "5/5 [==============================] - 0s 47ms/step - loss: 0.1521 - accuracy: 0.9545\n",
      "Epoch 47/50\n",
      "5/5 [==============================] - 0s 39ms/step - loss: 0.2360 - accuracy: 0.9318\n",
      "Epoch 48/50\n",
      "5/5 [==============================] - 0s 43ms/step - loss: 0.1217 - accuracy: 0.9621\n",
      "Epoch 49/50\n",
      "5/5 [==============================] - 0s 47ms/step - loss: 0.0902 - accuracy: 0.9848\n",
      "Epoch 50/50\n",
      "5/5 [==============================] - 0s 46ms/step - loss: 0.0836 - accuracy: 0.9848\n"
     ]
    },
    {
     "data": {
      "text/plain": [
       "<tensorflow.python.keras.callbacks.History at 0x7f9a3f3f0690>"
      ]
     },
     "execution_count": 32,
     "metadata": {},
     "output_type": "execute_result"
    }
   ],
   "source": [
    "model.fit(X_train_indices, Y_train_oh, epochs = 50, batch_size = 32, shuffle=True)"
   ]
  },
  {
   "cell_type": "code",
   "execution_count": 33,
   "metadata": {},
   "outputs": [
    {
     "name": "stdout",
     "output_type": "stream",
     "text": [
      "2/2 [==============================] - 0s 5ms/step - loss: 0.3577 - accuracy: 0.8750\n",
      "\n",
      "Test accuracy =  0.875\n"
     ]
    }
   ],
   "source": [
    "X_test_indices = sentences_to_indices(X_test, word_to_index, max_len = maxLen)\n",
    "Y_test_oh = convert_to_one_hot(Y_test, C = 5)\n",
    "loss, acc = model.evaluate(X_test_indices, Y_test_oh)\n",
    "print()\n",
    "print(\"Test accuracy = \", acc)"
   ]
  },
  {
   "cell_type": "code",
   "execution_count": 34,
   "metadata": {},
   "outputs": [
    {
     "name": "stdout",
     "output_type": "stream",
     "text": [
      "lets play football ⚾\n"
     ]
    }
   ],
   "source": [
    "x_test = np.array(['lets play football'])\n",
    "X_test_indices = sentences_to_indices(x_test, word_to_index, maxLen)\n",
    "print(x_test[0] +' '+  label_to_emoji(np.argmax(model.predict(X_test_indices))))"
   ]
  },
  {
   "cell_type": "code",
   "execution_count": 35,
   "metadata": {},
   "outputs": [
    {
     "name": "stdout",
     "output_type": "stream",
     "text": [
      "WARNING:tensorflow:From /home/prasanna/anaconda3/lib/python3.7/site-packages/tensorflow/python/ops/resource_variable_ops.py:1817: calling BaseResourceVariable.__init__ (from tensorflow.python.ops.resource_variable_ops) with constraint is deprecated and will be removed in a future version.\n",
      "Instructions for updating:\n",
      "If using Keras pass *_constraint arguments to layers.\n",
      "INFO:tensorflow:Assets written to: my_model/assets\n"
     ]
    }
   ],
   "source": [
    "model.save(\"my_model\")"
   ]
  },
  {
   "cell_type": "code",
   "execution_count": 2,
   "metadata": {},
   "outputs": [],
   "source": [
    "model = tf.keras.models.load_model(\"my_model\")\n"
   ]
  },
  {
   "cell_type": "code",
   "execution_count": 24,
   "metadata": {},
   "outputs": [
    {
     "data": {
      "text/plain": [
       "''"
      ]
     },
     "execution_count": 24,
     "metadata": {},
     "output_type": "execute_result"
    }
   ],
   "source": [
    "import tkinter as tk\n",
    "\n",
    "from tkinter import ttk\n",
    "\n",
    "win = tk.Tk()\n",
    "\n",
    "win.title('EmojiFier')"
   ]
  },
  {
   "cell_type": "code",
   "execution_count": 25,
   "metadata": {},
   "outputs": [],
   "source": [
    "def emojifyMessage():\n",
    "    x_test = np.array([origMessage.get()])\n",
    "    X_test_indices = sentences_to_indices(x_test, word_to_index, maxLen)\n",
    "    success = x_test[0] +' '+  label_to_emoji(np.argmax(model.predict(X_test_indices)))\n",
    "    print(success)\n",
    "    tk.Label(win, text = success).grid(row = 1, column = 1)"
   ]
  },
  {
   "cell_type": "code",
   "execution_count": 26,
   "metadata": {},
   "outputs": [],
   "source": [
    "tk.Label(win, text=\"Your Message\").grid(row=0)\n",
    "tk.Label(win, text=\"Emojified message\").grid(row=1)\n",
    "\n",
    "origMessage = tk.Entry(win)\n",
    "\n",
    "\n",
    "origMessage.grid(row=0, column=1)\n",
    "\n",
    "\n",
    "tk.Button(win,text='Emojify', command=emojifyMessage).grid(row=3)\n",
    "\n",
    "\n",
    "    \n",
    "win.mainloop()"
   ]
  },
  {
   "cell_type": "code",
   "execution_count": 49,
   "metadata": {},
   "outputs": [],
   "source": []
  },
  {
   "cell_type": "code",
   "execution_count": null,
   "metadata": {},
   "outputs": [],
   "source": []
  },
  {
   "cell_type": "code",
   "execution_count": null,
   "metadata": {},
   "outputs": [],
   "source": []
  }
 ],
 "metadata": {
  "kernelspec": {
   "display_name": "Python 3",
   "language": "python",
   "name": "python3"
  },
  "language_info": {
   "codemirror_mode": {
    "name": "ipython",
    "version": 3
   },
   "file_extension": ".py",
   "mimetype": "text/x-python",
   "name": "python",
   "nbconvert_exporter": "python",
   "pygments_lexer": "ipython3",
   "version": "3.7.6"
  }
 },
 "nbformat": 4,
 "nbformat_minor": 4
}
